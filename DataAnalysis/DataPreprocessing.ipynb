{
 "cells": [
  {
   "cell_type": "markdown",
   "metadata": {},
   "source": [
    "# Purpose\n",
    "This notebook will gather the rating data by game and user, split it into and save in a parquet format so that we don't have to reprocess the data for each recommendation algorithm we try."
   ]
  },
  {
   "cell_type": "code",
   "execution_count": 15,
   "metadata": {},
   "outputs": [],
   "source": [
    "from boardgamegeek import BGGClient\n",
    "import requests\n",
    "import seaborn as sns\n",
    "from bs4 import BeautifulSoup\n",
    "import re\n",
    "from proxy_requests.proxy_requests import ProxyRequests\n",
    "from retry import retry\n",
    "import time\n",
    "import os\n",
    "import matplotlib.pyplot as plt\n",
    "from collections import Counter, defaultdict\n",
    "import numpy as np\n",
    "import pandas as pd\n",
    "import random\n",
    "import pickle\n",
    "from pyspark import SparkContext\n",
    "from pyspark.sql import SQLContext\n",
    "from pyspark.sql.functions import UserDefinedFunction as udf\n",
    "from pyspark.sql.types import IntegerType,FloatType,StructField,StructType\n",
    "from lxml import etree"
   ]
  },
  {
   "cell_type": "code",
   "execution_count": 2,
   "metadata": {},
   "outputs": [],
   "source": [
    "def local_path(path):\n",
    "    \n",
    "    return 'file://'+str(os.path.abspath(os.path.curdir))+'/'+path\n",
    "\n",
    "sc = SparkContext('local[*]','temp')\n",
    "\n",
    "#get only the files that will have stats\n",
    "files = sc.wholeTextFiles(local_path('../DataAcquisition/Data/*/*.xml'))"
   ]
  },
  {
   "cell_type": "code",
   "execution_count": 3,
   "metadata": {},
   "outputs": [],
   "source": [
    "def user_rating_parser(xml):\n",
    "    # This function will return an rdd with game_id, user, and rating\n",
    "    \n",
    "    #get game id as key\n",
    "    game_id = int(((xml[0]).split('/')[-1]).split('_')[0])\n",
    "    \n",
    "    soup = BeautifulSoup(xml[1])\n",
    "    \n",
    "    comments = soup.find_all('comment')\n",
    "    \n",
    "    # get rating and username for each comment and yield k,v pair\n",
    "    for comment in comments:\n",
    "        \n",
    "        user = comment.get('username')\n",
    "        \n",
    "        rating = float(comment.get('rating'))\n",
    "        \n",
    "        yield (user,[[game_id],[rating]])\n",
    "        \n",
    "def user_rating_columnwise(xml):\n",
    "    # This function will return an rdd with game_id, user, and rating\n",
    "    \n",
    "    #get game id as key\n",
    "    game_id = int(((xml[0]).split('/')[-1]).split('_')[0])\n",
    "    \n",
    "    soup = BeautifulSoup(xml[1])\n",
    "    \n",
    "    comments = soup.find_all('comment')\n",
    "    \n",
    "    # get rating and username for each comment and yield k,v pair\n",
    "    for comment in comments:\n",
    "        \n",
    "        user = comment.get('username')\n",
    "        \n",
    "        rating = float(comment.get('rating'))\n",
    "        \n",
    "        yield (user,game_id, rating)\n",
    "        \n",
    "def train_val_test(xml):\n",
    "    # This function will return an rdd with game_id, user, and rating as well as a key \n",
    "    #which tells us if the data belongs to our training, validation, or test set.\n",
    "    \n",
    "    #get game id\n",
    "    game_id = int(((xml[0]).split('/')[-1]).split('_')[0])\n",
    "    \n",
    "    soup = BeautifulSoup(xml[1])\n",
    "    \n",
    "    comments = soup.find_all('comment')\n",
    "    \n",
    "    # get rating and username for each comment and yield k,v pair\n",
    "    for comment in comments:\n",
    "        \n",
    "        user = comment.get('username')\n",
    "        \n",
    "        rating = float(comment.get('rating'))\n",
    "        \n",
    "        train_val_test_split = np.random.choice(np.array([0,1,2]),p=[0.8,0.15,0.05])\n",
    "            \n",
    "        if train_val_test_split == 0:        \n",
    "                                        \n",
    "            yield ('train',[user,game_id, rating])\n",
    "            \n",
    "        elif train_val_test_split ==1:\n",
    "            \n",
    "            yield ('validation',[user,game_id, rating])\n",
    "            \n",
    "        elif train_val_test_split == 2:\n",
    "            \n",
    "            yield ('test',[user,game_id, rating])\n",
    "    \n",
    "\n",
    "def add_values(x,y):\n",
    "    \n",
    "    return [x[0]+y[0],x[1]+y[1]]"
   ]
  },
  {
   "cell_type": "code",
   "execution_count": 4,
   "metadata": {},
   "outputs": [],
   "source": [
    "user_item_matrix = files.flatMap(user_rating_parser).reduceByKey(add_values).collect()"
   ]
  },
  {
   "cell_type": "code",
   "execution_count": 5,
   "metadata": {},
   "outputs": [],
   "source": [
    "games = pd.read_csv('../DataAcquisition/top_games.csv')"
   ]
  },
  {
   "cell_type": "code",
   "execution_count": 6,
   "metadata": {},
   "outputs": [],
   "source": [
    "#Let's make dictionaries which will transform thd game id to an integer between 0 and 999\n",
    "#and another dictionary which encodes that integer to the corresponding game's \"fancy name\"\n",
    "game_id_dict = {}\n",
    "game_id = 0\n",
    "id_to_fancy_name = {}\n",
    "for x in games.values:\n",
    "    \n",
    "    game_id_dict[x[0]] = game_id\n",
    "    id_to_fancy_name[game_id] = x[2]\n",
    "    game_id+=1"
   ]
  },
  {
   "cell_type": "code",
   "execution_count": 7,
   "metadata": {},
   "outputs": [],
   "source": [
    "#Save our index to name dictionary for use in other notebooks.\n",
    "with open('index_to_name.pkl', 'wb') as f:\n",
    "    pickle.dump(id_to_fancy_name, f, pickle.HIGHEST_PROTOCOL)"
   ]
  },
  {
   "cell_type": "code",
   "execution_count": 8,
   "metadata": {},
   "outputs": [],
   "source": [
    "#Now we also need to convert the user id into an integer. We will use a default dict to accomplish this.\n",
    "users = defaultdict(int)\n",
    "user_count = 1\n",
    "\n",
    "for x in user_item_matrix:\n",
    "    \n",
    "    if users[x[0]] == 0:\n",
    "        \n",
    "        users[x[0]] = user_count\n",
    "        user_count+=1"
   ]
  },
  {
   "cell_type": "code",
   "execution_count": 9,
   "metadata": {},
   "outputs": [],
   "source": [
    "sqlContext = SQLContext(sc)"
   ]
  },
  {
   "cell_type": "code",
   "execution_count": 16,
   "metadata": {},
   "outputs": [],
   "source": [
    "data_schema = [StructField('user', IntegerType(), True), StructField('item', IntegerType(), True),\n",
    "              StructField('rating',FloatType(),True)]\n",
    "final_struc = StructType(fields=data_schema)\n",
    "user_item_matrix = files.flatMap(user_rating_columnwise).map(lambda x: (int(users[x[0]]),int(game_id_dict[x[1]]),\n",
    "                                   round(float(x[2]),2)))\n",
    "alternate_form = user_item_matrix.toDF(schema=final_struc)"
   ]
  },
  {
   "cell_type": "code",
   "execution_count": 17,
   "metadata": {},
   "outputs": [
    {
     "name": "stdout",
     "output_type": "stream",
     "text": [
      "root\n",
      " |-- user: integer (nullable = true)\n",
      " |-- item: integer (nullable = true)\n",
      " |-- rating: float (nullable = true)\n",
      "\n"
     ]
    }
   ],
   "source": [
    "alternate_form.printSchema()"
   ]
  },
  {
   "cell_type": "code",
   "execution_count": 18,
   "metadata": {},
   "outputs": [],
   "source": [
    "alternate_form = alternate_form.withColumnRenamed(\"_1\", \"user\"\n",
    "                                                 ).withColumnRenamed(\"_2\", \"item\"\n",
    "                                                                    ).withColumnRenamed(\"_3\", \"rating\")\n",
    "alternate_form.write.save(\"parquet_user_rating_matrix\", format=\"parquet\")"
   ]
  },
  {
   "cell_type": "code",
   "execution_count": 19,
   "metadata": {},
   "outputs": [],
   "source": [
    "user_item_matrix_labeled = files.flatMap(train_val_test).map(lambda x: [x[0],(users[x[1][0]],game_id_dict[x[1][1]],\n",
    "                                      round(float(x[1][2]),2))])"
   ]
  },
  {
   "cell_type": "code",
   "execution_count": 20,
   "metadata": {},
   "outputs": [
    {
     "name": "stdout",
     "output_type": "stream",
     "text": [
      "root\n",
      " |-- user: integer (nullable = true)\n",
      " |-- item: integer (nullable = true)\n",
      " |-- rating: float (nullable = true)\n",
      "\n"
     ]
    }
   ],
   "source": [
    "train = user_item_matrix_labeled.filter(lambda x: x[0] == 'train').map(lambda x: x[1])\n",
    "alternate_form = train.toDF(schema=final_struc)\n",
    "alternate_form.printSchema()"
   ]
  },
  {
   "cell_type": "code",
   "execution_count": 21,
   "metadata": {},
   "outputs": [],
   "source": [
    "alternate_form = alternate_form.withColumnRenamed(\"_1\", \"user\"\n",
    "                                                 ).withColumnRenamed(\"_2\", \"item\"\n",
    "                                                                    ).withColumnRenamed(\"_3\", \"rating\")\n",
    "alternate_form.write.save(\"parquet_train\", format=\"parquet\")"
   ]
  },
  {
   "cell_type": "code",
   "execution_count": 22,
   "metadata": {},
   "outputs": [],
   "source": [
    "val = user_item_matrix_labeled.filter(lambda x: x[0] == 'validation').map(lambda x: x[1])\n",
    "alternate_form = val.toDF(schema=final_struc)\n",
    "alternate_form = alternate_form.withColumnRenamed(\"_1\", \"user\"\n",
    "                                                 ).withColumnRenamed(\"_2\", \"item\"\n",
    "                                                                    ).withColumnRenamed(\"_3\", \"rating\")\n",
    "alternate_form.write.save(\"parquet_validation\", format=\"parquet\")"
   ]
  },
  {
   "cell_type": "code",
   "execution_count": 23,
   "metadata": {},
   "outputs": [],
   "source": [
    "test = user_item_matrix_labeled.filter(lambda x: x[0] == 'test').map(lambda x: x[1])\n",
    "alternate_form = test.toDF(schema=final_struc)\n",
    "alternate_form = alternate_form.withColumnRenamed(\"_1\", \"user\"\n",
    "                                                 ).withColumnRenamed(\"_2\", \"item\"\n",
    "                                                                    ).withColumnRenamed(\"_3\", \"rating\")\n",
    "alternate_form.write.save(\"parquet_test\", format=\"parquet\")"
   ]
  }
 ],
 "metadata": {
  "kernelspec": {
   "display_name": "Python 3",
   "language": "python",
   "name": "python3"
  },
  "language_info": {
   "codemirror_mode": {
    "name": "ipython",
    "version": 3
   },
   "file_extension": ".py",
   "mimetype": "text/x-python",
   "name": "python",
   "nbconvert_exporter": "python",
   "pygments_lexer": "ipython3",
   "version": "3.5.2"
  }
 },
 "nbformat": 4,
 "nbformat_minor": 2
}
